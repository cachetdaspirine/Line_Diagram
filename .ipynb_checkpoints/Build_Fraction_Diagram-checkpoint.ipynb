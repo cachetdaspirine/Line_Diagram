{
 "cells": [
  {
   "cell_type": "code",
   "execution_count": 60,
   "id": "033103ec",
   "metadata": {},
   "outputs": [],
   "source": [
    "import numpy as np\n",
    "import os"
   ]
  },
  {
   "cell_type": "markdown",
   "id": "8719b4c6",
   "metadata": {},
   "source": [
    "## Import the data"
   ]
  },
  {
   "cell_type": "code",
   "execution_count": 94,
   "id": "078facc1",
   "metadata": {},
   "outputs": [],
   "source": [
    "del Gammas\n",
    "for root, dirs, files in os.walk(\"ellmin3_5_Wmax10_Nmax1000_dGamma100/\"):\n",
    "    for file in files:\n",
    "        #if file.endswith(\".npy\"):\n",
    "        if file.startswith(\"Seed\"):\n",
    "            number = file[4:-4]\n",
    "            if 'Seeds' in locals() and 'Gammas' in locals() and 'Ell0s' in locals() and 'Lines' in locals():\n",
    "                np.append(Seeds,np.load(os.path.join(root, file),allow_pickle=True))\n",
    "                np.append(Gammas,np.load(os.path.join(root,\"Gamma\"+number+\".npy\"),allow_pickle=True))\n",
    "                np.append(Lines,np.load(os.path.join(root,\"Line\"+number+\".npy\"),allow_pickle=True),axis=0)\n",
    "                np.append(Ell0s,np.load(os.path.join(root,\"Ell0\"+number+\".npy\"),allow_pickle=True))\n",
    "            else:\n",
    "                Seeds = np.load(os.path.join(root, file),allow_pickle=True)\n",
    "                Gammas = np.load(os.path.join(root, \"Gamma\"+number+\".npy\"),allow_pickle=True)\n",
    "                Lines = np.load(os.path.join(root, \"Line\"+number+\".npy\"),allow_pickle=True)\n",
    "                Ell0s = np.load(os.path.join(root, \"Ell0\"+number+\".npy\"),allow_pickle=True)"
   ]
  },
  {
   "cell_type": "code",
   "execution_count": 97,
   "id": "5e268bf2",
   "metadata": {},
   "outputs": [],
   "source": [
    "LinesArray = np.zeros((Lines.shape[0],Lines[0].shape[0],Lines[0].shape[1]),dtype= int)\n",
    "for n,line in enumerate(Lines):\n",
    "    LinesArray[n] = line\n",
    "# Remove the value of Bulk\n",
    "LinesArray[np.where(LinesArray==919)] = 0\n",
    "# Remove the fiber of width 1\n",
    "for n,line in enumerate(LinesArray):\n",
    "    for m,row in enumerate(line):\n",
    "        if np.array_equal(row,[1,0,0]):\n",
    "            LinesArray[n,m] = [0,0,1]"
   ]
  },
  {
   "cell_type": "markdown",
   "id": "26ff713f",
   "metadata": {},
   "source": [
    "## Check that the indexing correspond"
   ]
  },
  {
   "cell_type": "code",
   "execution_count": 54,
   "id": "e07d35a3",
   "metadata": {},
   "outputs": [],
   "source": [
    "import sys\n",
    "sys.path.append('/home/hcleroy/Extra_Module_py')\n",
    "import RandomParticleFunctions_v4 as RPF\n",
    "import Get_High_L_Matrix as GHLM\n",
    "import MeasurePoisson as MP"
   ]
  },
  {
   "cell_type": "code",
   "execution_count": 43,
   "id": "671a1636",
   "metadata": {},
   "outputs": [
    {
     "name": "stdout",
     "output_type": "stream",
     "text": [
      "4.589570364381505\n",
      "4.5895704265029025\n"
     ]
    }
   ],
   "source": [
    "N = 40\n",
    "# Generate a particle with the given seed and measure Ell\n",
    "Mc,rho0,e1,e2,S = RPF.RandomParticle(Seeds[N])\n",
    "print(GHLM.MeasureL(Mc,rho0))\n",
    "# Output the expected value, both should match\n",
    "print(Ell0s[N])"
   ]
  },
  {
   "cell_type": "markdown",
   "id": "e8712214",
   "metadata": {},
   "source": [
    "## Compute the fraction of fiber/disk obtained for each line"
   ]
  },
  {
   "cell_type": "code",
   "execution_count": 122,
   "id": "62a9ee98",
   "metadata": {},
   "outputs": [
    {
     "name": "stderr",
     "output_type": "stream",
     "text": [
      "<ipython-input-122-ea5b250c177f>:6: RuntimeWarning: invalid value encountered in true_divide\n",
      "  Fraction[n] = sum(np.nan_to_num(LinesArray[:,n]/LinesArray[:,n],0))/sum(sum(np.nan_to_num(LinesArray[:,n]/LinesArray[:,n],0)))\n",
      "<ipython-input-122-ea5b250c177f>:8: UserWarning: Warning: converting a masked element to nan.\n",
      "  AvSize[n] = np.array([np.mean(np.ma.masked_equal(LinesArray[:,n,0],0)),\n"
     ]
    }
   ],
   "source": [
    "# We compute for each Gamma the fraction of fiber and disks\n",
    "Fraction = np.zeros((Lines.shape[0],3),dtype=float)\n",
    "# We compute the corresponding averagesize\n",
    "AvSize = np.zeros((Lines.shape[0],3),dtype=float)\n",
    "for n in range(LinesArray.shape[1]):\n",
    "    Fraction[n] = sum(np.nan_to_num(LinesArray[:,n]/LinesArray[:,n],0))/sum(sum(np.nan_to_num(LinesArray[:,n]/LinesArray[:,n],0)))\n",
    "    # The masked array helps to ignor the entry for which there is no fiber or no lacunar bulk\n",
    "    AvSize[n] = np.array([np.mean(np.ma.masked_equal(LinesArray[:,n,0],0)),\n",
    "                          np.mean(np.ma.masked_equal(LinesArray[:,n,1],0)),\n",
    "                          np.mean(np.ma.masked_equal(LinesArray[:,n,2],0))])\n",
    "AvSize = np.nan_to_num(AvSize,0)"
   ]
  },
  {
   "cell_type": "markdown",
   "id": "25f856bd",
   "metadata": {},
   "source": [
    "## Compute the Poisson ratio"
   ]
  },
  {
   "cell_type": "code",
   "execution_count": 55,
   "id": "3abc36df",
   "metadata": {},
   "outputs": [],
   "source": [
    "NUs = list()\n",
    "for S in Seeds:\n",
    "    Mc,rho0,e1,e2,S = RPF.RandomParticle(S)\n",
    "    NUs.append(MP.ComputePoissonRatio(Mc,rho0,Nodes=[0]))\n",
    "NUs = np.array(NUs)"
   ]
  },
  {
   "cell_type": "code",
   "execution_count": 59,
   "id": "4b8a44e0",
   "metadata": {},
   "outputs": [],
   "source": [
    "Seeds = Seeds[NUs.argsort()]\n",
    "Lines = Lines[NUs.argsort()]\n",
    "Gammas = Gammas[NUs.argsort()]\n",
    "Ell0s = Ell0s[NUs.argsort()]\n",
    "NUs = NUs[NUs.argsort()]\n",
    "Fraction = Fraction[NUs.argsort()]"
   ]
  },
  {
   "cell_type": "markdown",
   "id": "b8205523",
   "metadata": {},
   "source": [
    "## Make the phase diagram"
   ]
  },
  {
   "cell_type": "code",
   "execution_count": 159,
   "id": "6797bf03",
   "metadata": {},
   "outputs": [],
   "source": [
    "import matplotlib.pyplot as plt\n",
    "import formated_matplotlib\n",
    "import matplotlib.cm as cm\n",
    "Purple = [86/255.,42/255.,132/255.]\n",
    "Gamma = np.linspace(0,1,100)\n",
    "rescale = lambda y: (y - np.min(y)) / (np.max(y) - np.min(y))"
   ]
  },
  {
   "cell_type": "code",
   "execution_count": 176,
   "id": "4c94ab79",
   "metadata": {},
   "outputs": [
    {
     "data": {
      "text/plain": [
       "Text(0, 0.5, '$\\\\%$')"
      ]
     },
     "execution_count": 176,
     "metadata": {},
     "output_type": "execute_result"
    },
    {
     "data": {
      "image/png": "[encoded data removed]",
      "text/plain": [
       "<Figure size 240.945x181.162 with 1 Axes>"
      ]
     },
     "metadata": {
      "needs_background": "light"
     },
     "output_type": "display_data"
    }
   ],
   "source": [
    "# To make sure the bar overlap correctly\n",
    "eps=0.005\n",
    "fig,ax = plt.subplots()\n",
    "ax.bar(Gamma,Fraction[:,1]+Fraction[:,0]+Fraction[:,2],color=Purple,align='center',width=1/Gamma.shape[0]+eps)#,c=AvSize[:,2])\n",
    "ax.bar(Gamma,Fraction[:,1]+Fraction[:,0],color=cm.Blues(rescale(AvSize[:,0])),align='center',width=1/Gamma.shape[0]+eps)\n",
    "ax.bar(Gamma,Fraction[:,1],color=cm.Reds(rescale(AvSize[:,1])),align='center',width=1/Gamma.shape[0]+eps)\n",
    "ax.set_xlabel(r'${\\Gamma} / {\\Gamma_\\mathrm{max}}$')\n",
    "ax.set_ylabel(r'$\\%$')"
   ]
  },
  {
   "cell_type": "code",
   "execution_count": null,
   "id": "502fc6a2",
   "metadata": {},
   "outputs": [],
   "source": []
  }
 ],
 "metadata": {
  "kernelspec": {
   "display_name": "Python 3",
   "language": "python",
   "name": "python3"
  },
  "language_info": {
   "codemirror_mode": {
    "name": "ipython",
    "version": 3
   },
   "file_extension": ".py",
   "mimetype": "text/x-python",
   "name": "python",
   "nbconvert_exporter": "python",
   "pygments_lexer": "ipython3",
   "version": "3.8.8"
  }
 },
 "nbformat": 4,
 "nbformat_minor": 5
}
