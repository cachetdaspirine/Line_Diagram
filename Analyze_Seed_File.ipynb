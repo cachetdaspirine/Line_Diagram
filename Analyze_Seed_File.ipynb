{
 "cells": [
  {
   "cell_type": "code",
   "execution_count": 1,
   "id": "e6600ffe",
   "metadata": {},
   "outputs": [],
   "source": [
    "import numpy as np"
   ]
  },
  {
   "cell_type": "code",
   "execution_count": 2,
   "id": "5054c333",
   "metadata": {},
   "outputs": [],
   "source": [
    "SeedBag = np.load('ell_from_file_Wmax10_Nmax100_dGamma100/SeedBag400.npy',allow_pickle=True)"
   ]
  },
  {
   "cell_type": "code",
   "execution_count": 3,
   "id": "cf4d1599",
   "metadata": {},
   "outputs": [
    {
     "data": {
      "text/plain": [
       "(400,)"
      ]
     },
     "execution_count": 3,
     "metadata": {},
     "output_type": "execute_result"
    }
   ],
   "source": [
    "SeedBag.shape"
   ]
  },
  {
   "cell_type": "code",
   "execution_count": 5,
   "id": "77faf0a7",
   "metadata": {},
   "outputs": [],
   "source": [
    "Matrix = np.loadtxt('Matrix.data',dtype=float)"
   ]
  },
  {
   "cell_type": "code",
   "execution_count": 6,
   "id": "2c37ea6b",
   "metadata": {},
   "outputs": [
    {
     "data": {
      "text/plain": [
       "(10000, 5)"
      ]
     },
     "execution_count": 6,
     "metadata": {},
     "output_type": "execute_result"
    }
   ],
   "source": [
    "Matrix.shape"
   ]
  },
  {
   "cell_type": "code",
   "execution_count": 10,
   "id": "4fa50e2a",
   "metadata": {},
   "outputs": [],
   "source": [
    "Matrix = Matrix[np.argsort(Matrix[:,1])]"
   ]
  },
  {
   "cell_type": "code",
   "execution_count": 13,
   "id": "fd1d896d",
   "metadata": {},
   "outputs": [],
   "source": [
    "Matrixbis = Matrix[:,[1,-1]]"
   ]
  },
  {
   "cell_type": "code",
   "execution_count": 15,
   "id": "d383227c",
   "metadata": {},
   "outputs": [],
   "source": [
    "Matrixbis = Matrixbis[::-1]"
   ]
  },
  {
   "cell_type": "code",
   "execution_count": 36,
   "id": "314931fd",
   "metadata": {},
   "outputs": [],
   "source": [
    "file = open('test.dat','r')"
   ]
  },
  {
   "cell_type": "code",
   "execution_count": 37,
   "id": "feb469f0",
   "metadata": {},
   "outputs": [],
   "source": [
    "numbers = {np.int64(f) for f in np.array(file.read().split(\"\\n\"))[:-1]}"
   ]
  },
  {
   "cell_type": "code",
   "execution_count": 70,
   "id": "39d9ded9",
   "metadata": {},
   "outputs": [],
   "source": [
    "Array = np.array([1984151685654665433,29,30],dtype=np.int64)"
   ]
  },
  {
   "cell_type": "code",
   "execution_count": 71,
   "id": "33f74f82",
   "metadata": {},
   "outputs": [],
   "source": [
    "np.savetxt('test.dat',Array.astype(int),fmt='%i')"
   ]
  },
  {
   "cell_type": "code",
   "execution_count": 72,
   "id": "518db859",
   "metadata": {},
   "outputs": [],
   "source": [
    "Forbiden_seeds = set(np.loadtxt('test.dat',dtype=np.int64))"
   ]
  },
  {
   "cell_type": "code",
   "execution_count": 73,
   "id": "54999098",
   "metadata": {},
   "outputs": [
    {
     "data": {
      "text/plain": [
       "{29, 30, 1984151685654665433}"
      ]
     },
     "execution_count": 73,
     "metadata": {},
     "output_type": "execute_result"
    }
   ],
   "source": [
    "Forbiden_seeds"
   ]
  },
  {
   "cell_type": "code",
   "execution_count": null,
   "id": "a2a4b968",
   "metadata": {},
   "outputs": [],
   "source": []
  }
 ],
 "metadata": {
  "kernelspec": {
   "display_name": "Python 3",
   "language": "python",
   "name": "python3"
  },
  "language_info": {
   "codemirror_mode": {
    "name": "ipython",
    "version": 3
   },
   "file_extension": ".py",
   "mimetype": "text/x-python",
   "name": "python",
   "nbconvert_exporter": "python",
   "pygments_lexer": "ipython3",
   "version": "3.8.8"
  }
 },
 "nbformat": 4,
 "nbformat_minor": 5
}
