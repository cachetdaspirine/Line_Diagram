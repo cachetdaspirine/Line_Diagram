{
 "cells": [
  {
   "cell_type": "code",
   "execution_count": 1,
   "id": "d2042dcb",
   "metadata": {},
   "outputs": [],
   "source": [
    "import numpy as np\n",
    "from Get_High_L_Matrix import *\n",
    "import tqdm"
   ]
  },
  {
   "cell_type": "code",
   "execution_count": 2,
   "id": "fa467190",
   "metadata": {},
   "outputs": [],
   "source": [
    "SeedBag = np.loadtxt('Seeds_With_Ell_Higher_5.dat',dtype=np.int64)"
   ]
  },
  {
   "cell_type": "code",
   "execution_count": 3,
   "id": "7a9099f9",
   "metadata": {},
   "outputs": [],
   "source": [
    "Ell0 = np.zeros(SeedBag.shape[0],dtype=float)"
   ]
  },
  {
   "cell_type": "code",
   "execution_count": 4,
   "id": "773a1f02",
   "metadata": {},
   "outputs": [
    {
     "name": "stderr",
     "output_type": "stream",
     "text": [
      "  2%|▏         | 2/100 [00:15<12:27,  7.63s/it]\n"
     ]
    },
    {
     "ename": "KeyboardInterrupt",
     "evalue": "",
     "output_type": "error",
     "traceback": [
      "\u001b[0;31m---------------------------------------------------------------------------\u001b[0m",
      "\u001b[0;31mKeyboardInterrupt\u001b[0m                         Traceback (most recent call last)",
      "\u001b[0;32m<ipython-input-4-d8b51b05ad90>\u001b[0m in \u001b[0;36m<module>\u001b[0;34m\u001b[0m\n\u001b[1;32m      1\u001b[0m \u001b[0;32mfor\u001b[0m \u001b[0mi\u001b[0m \u001b[0;32min\u001b[0m \u001b[0mtqdm\u001b[0m\u001b[0;34m.\u001b[0m\u001b[0mtrange\u001b[0m\u001b[0;34m(\u001b[0m\u001b[0mSeedBag\u001b[0m\u001b[0;34m.\u001b[0m\u001b[0mshape\u001b[0m\u001b[0;34m[\u001b[0m\u001b[0;36m0\u001b[0m\u001b[0;34m]\u001b[0m\u001b[0;34m//\u001b[0m\u001b[0;36m10\u001b[0m\u001b[0;34m)\u001b[0m\u001b[0;34m:\u001b[0m\u001b[0;34m\u001b[0m\u001b[0;34m\u001b[0m\u001b[0m\n\u001b[0;32m----> 2\u001b[0;31m     \u001b[0mEll0\u001b[0m\u001b[0;34m[\u001b[0m\u001b[0mi\u001b[0m\u001b[0;34m]\u001b[0m \u001b[0;34m=\u001b[0m \u001b[0mMeasureLFromSeed\u001b[0m\u001b[0;34m(\u001b[0m\u001b[0mSeedBag\u001b[0m\u001b[0;34m[\u001b[0m\u001b[0mi\u001b[0m\u001b[0;34m]\u001b[0m\u001b[0;34m)\u001b[0m\u001b[0;34m\u001b[0m\u001b[0;34m\u001b[0m\u001b[0m\n\u001b[0m",
      "\u001b[0;32m~/Self_Fiber/Numerical_Computation/RandomParticle/Cluster/Line_Diagram/Get_High_L_Matrix.py\u001b[0m in \u001b[0;36mMeasureLFromSeed\u001b[0;34m(seed)\u001b[0m\n\u001b[1;32m     50\u001b[0m \u001b[0;32mdef\u001b[0m \u001b[0mMeasureLFromSeed\u001b[0m\u001b[0;34m(\u001b[0m\u001b[0mseed\u001b[0m\u001b[0;34m)\u001b[0m\u001b[0;34m:\u001b[0m\u001b[0;34m\u001b[0m\u001b[0;34m\u001b[0m\u001b[0m\n\u001b[1;32m     51\u001b[0m     \u001b[0mMc\u001b[0m\u001b[0;34m,\u001b[0m\u001b[0mrho0\u001b[0m\u001b[0;34m,\u001b[0m\u001b[0meps1\u001b[0m\u001b[0;34m,\u001b[0m\u001b[0meps2\u001b[0m\u001b[0;34m,\u001b[0m\u001b[0mseed\u001b[0m \u001b[0;34m=\u001b[0m \u001b[0mRPF\u001b[0m\u001b[0;34m.\u001b[0m\u001b[0mRandomParticle\u001b[0m\u001b[0;34m(\u001b[0m\u001b[0mseed\u001b[0m\u001b[0;34m=\u001b[0m\u001b[0mseed\u001b[0m\u001b[0;34m)\u001b[0m\u001b[0;34m\u001b[0m\u001b[0;34m\u001b[0m\u001b[0m\n\u001b[0;32m---> 52\u001b[0;31m     \u001b[0;32mreturn\u001b[0m \u001b[0mMeasureL\u001b[0m\u001b[0;34m(\u001b[0m\u001b[0mMc\u001b[0m\u001b[0;34m,\u001b[0m\u001b[0mrho0\u001b[0m\u001b[0;34m)\u001b[0m\u001b[0;34m\u001b[0m\u001b[0;34m\u001b[0m\u001b[0m\n\u001b[0m\u001b[1;32m     53\u001b[0m \u001b[0;32mdef\u001b[0m \u001b[0mMeasureL\u001b[0m\u001b[0;34m(\u001b[0m\u001b[0mMc\u001b[0m\u001b[0;34m,\u001b[0m\u001b[0mrho0\u001b[0m\u001b[0;34m)\u001b[0m\u001b[0;34m:\u001b[0m\u001b[0;34m\u001b[0m\u001b[0;34m\u001b[0m\u001b[0m\n\u001b[1;32m     54\u001b[0m     \u001b[0mArray\u001b[0m \u001b[0;34m=\u001b[0m \u001b[0mSh\u001b[0m\u001b[0;34m.\u001b[0m\u001b[0mParallel\u001b[0m\u001b[0;34m(\u001b[0m\u001b[0;36m18\u001b[0m\u001b[0;34m,\u001b[0m\u001b[0mParticleType\u001b[0m\u001b[0;34m=\u001b[0m\u001b[0;34m'Hexagon'\u001b[0m\u001b[0;34m)\u001b[0m\u001b[0;34m\u001b[0m\u001b[0;34m\u001b[0m\u001b[0m\n",
      "\u001b[0;32m~/Self_Fiber/Numerical_Computation/RandomParticle/Cluster/Line_Diagram/Get_High_L_Matrix.py\u001b[0m in \u001b[0;36mMeasureL\u001b[0;34m(Mc, rho0)\u001b[0m\n\u001b[1;32m     54\u001b[0m     \u001b[0mArray\u001b[0m \u001b[0;34m=\u001b[0m \u001b[0mSh\u001b[0m\u001b[0;34m.\u001b[0m\u001b[0mParallel\u001b[0m\u001b[0;34m(\u001b[0m\u001b[0;36m18\u001b[0m\u001b[0;34m,\u001b[0m\u001b[0mParticleType\u001b[0m\u001b[0;34m=\u001b[0m\u001b[0;34m'Hexagon'\u001b[0m\u001b[0;34m)\u001b[0m\u001b[0;34m\u001b[0m\u001b[0;34m\u001b[0m\u001b[0m\n\u001b[1;32m     55\u001b[0m     \u001b[0;31m#Array = Sh.Fiber(10,50,ParticleType='Hexagon')\u001b[0m\u001b[0;34m\u001b[0m\u001b[0;34m\u001b[0m\u001b[0;34m\u001b[0m\u001b[0m\n\u001b[0;32m---> 56\u001b[0;31m     \u001b[0mS\u001b[0m \u001b[0;34m=\u001b[0m \u001b[0mRSys\u001b[0m\u001b[0;34m.\u001b[0m\u001b[0mSystem\u001b[0m\u001b[0;34m(\u001b[0m\u001b[0mMc\u001b[0m\u001b[0;34m,\u001b[0m\u001b[0mrho0\u001b[0m\u001b[0;34m,\u001b[0m\u001b[0mArray\u001b[0m\u001b[0;34m)\u001b[0m\u001b[0;34m\u001b[0m\u001b[0;34m\u001b[0m\u001b[0m\n\u001b[0m\u001b[1;32m     57\u001b[0m     \u001b[0mS\u001b[0m\u001b[0;34m.\u001b[0m\u001b[0mPrintPerSite\u001b[0m\u001b[0;34m(\u001b[0m\u001b[0mName\u001b[0m \u001b[0;34m=\u001b[0m \u001b[0mName\u001b[0m\u001b[0;34m,\u001b[0m\u001b[0mExtended\u001b[0m\u001b[0;34m=\u001b[0m\u001b[0;32mTrue\u001b[0m\u001b[0;34m)\u001b[0m\u001b[0;34m\u001b[0m\u001b[0;34m\u001b[0m\u001b[0m\n\u001b[1;32m     58\u001b[0m     \u001b[0mEnergyData\u001b[0m \u001b[0;34m=\u001b[0m \u001b[0mnp\u001b[0m\u001b[0;34m.\u001b[0m\u001b[0mloadtxt\u001b[0m\u001b[0;34m(\u001b[0m\u001b[0mName\u001b[0m\u001b[0;34m)\u001b[0m\u001b[0;34m\u001b[0m\u001b[0;34m\u001b[0m\u001b[0m\n",
      "\u001b[0;32m~/Extra_Module_py/RandSyst.py\u001b[0m in \u001b[0;36m__init__\u001b[0;34m(self, CouplingMatrix, q0, State, old_system)\u001b[0m\n\u001b[1;32m    104\u001b[0m     \u001b[0;32mdef\u001b[0m \u001b[0m__init__\u001b[0m\u001b[0;34m(\u001b[0m\u001b[0mself\u001b[0m\u001b[0;34m,\u001b[0m\u001b[0mCouplingMatrix\u001b[0m\u001b[0;34m=\u001b[0m\u001b[0;32mNone\u001b[0m\u001b[0;34m,\u001b[0m \u001b[0mq0\u001b[0m\u001b[0;34m=\u001b[0m\u001b[0;32mNone\u001b[0m\u001b[0;34m,\u001b[0m \u001b[0mState\u001b[0m\u001b[0;34m=\u001b[0m\u001b[0;32mNone\u001b[0m\u001b[0;34m,\u001b[0m\u001b[0mold_system\u001b[0m\u001b[0;34m=\u001b[0m\u001b[0;32mNone\u001b[0m\u001b[0;34m)\u001b[0m\u001b[0;34m:\u001b[0m\u001b[0;34m\u001b[0m\u001b[0;34m\u001b[0m\u001b[0m\n\u001b[1;32m    105\u001b[0m         \u001b[0;32mif\u001b[0m \u001b[0mold_system\u001b[0m \u001b[0;34m==\u001b[0m \u001b[0;32mNone\u001b[0m\u001b[0;34m:\u001b[0m\u001b[0;34m\u001b[0m\u001b[0;34m\u001b[0m\u001b[0m\n\u001b[0;32m--> 106\u001b[0;31m                 \u001b[0mself\u001b[0m\u001b[0;34m.\u001b[0m\u001b[0mNone_Copy\u001b[0m\u001b[0;34m(\u001b[0m\u001b[0mState\u001b[0m\u001b[0;34m,\u001b[0m \u001b[0mCouplingMatrix\u001b[0m\u001b[0;34m,\u001b[0m \u001b[0mq0\u001b[0m\u001b[0;34m)\u001b[0m\u001b[0;34m\u001b[0m\u001b[0;34m\u001b[0m\u001b[0m\n\u001b[0m\u001b[1;32m    107\u001b[0m         \u001b[0;32melse\u001b[0m\u001b[0;34m:\u001b[0m\u001b[0;34m\u001b[0m\u001b[0;34m\u001b[0m\u001b[0m\n\u001b[1;32m    108\u001b[0m             \u001b[0mself\u001b[0m\u001b[0;34m.\u001b[0m\u001b[0mCopy\u001b[0m\u001b[0;34m(\u001b[0m\u001b[0mold_system\u001b[0m\u001b[0;34m)\u001b[0m\u001b[0;34m\u001b[0m\u001b[0;34m\u001b[0m\u001b[0m\n",
      "\u001b[0;32m~/Extra_Module_py/RandSyst.py\u001b[0m in \u001b[0;36mNone_Copy\u001b[0;34m(self, State, CouplingMatrix, q0)\u001b[0m\n\u001b[1;32m    151\u001b[0m         \u001b[0;31m# ---------------------Create the cpp object-------------------------\u001b[0m\u001b[0;34m\u001b[0m\u001b[0;34m\u001b[0m\u001b[0;34m\u001b[0m\u001b[0m\n\u001b[1;32m    152\u001b[0m         \u001b[0;31m# create the system, all the argument are require here !!!!\u001b[0m\u001b[0;34m\u001b[0m\u001b[0;34m\u001b[0m\u001b[0;34m\u001b[0m\u001b[0m\n\u001b[0;32m--> 153\u001b[0;31m         self.Adress = self.lib.CreateSystem(\n\u001b[0m\u001b[1;32m    154\u001b[0m             Arraycpp, MCcpp,Q0cpp,self.Lx,self.Ly)\n\u001b[1;32m    155\u001b[0m         \u001b[0;31m# --------------------Store the value of the Energy------------------\u001b[0m\u001b[0;34m\u001b[0m\u001b[0;34m\u001b[0m\u001b[0;34m\u001b[0m\u001b[0m\n",
      "\u001b[0;31mKeyboardInterrupt\u001b[0m: "
     ]
    }
   ],
   "source": [
    "for i in tqdm.trange(SeedBag.shape[0]//10):\n",
    "    Ell0[i] = MeasureLFromSeed(SeedBag[i])"
   ]
  },
  {
   "cell_type": "code",
   "execution_count": 5,
   "id": "c97f6442",
   "metadata": {},
   "outputs": [
    {
     "name": "stdout",
     "output_type": "stream",
     "text": [
      "(1000,)\n"
     ]
    }
   ],
   "source": [
    "ell = np.load('Ell00.npy')\n",
    "print(ell.shape)"
   ]
  },
  {
   "cell_type": "code",
   "execution_count": 8,
   "id": "328bef83",
   "metadata": {},
   "outputs": [],
   "source": [
    "ells = np.zeros((10,1000),dtype=float)\n",
    "for i in range(10):\n",
    "    ells[i] = np.load('Ell0'+str(i)+'.npy',allow_pickle=True)"
   ]
  },
  {
   "cell_type": "code",
   "execution_count": 9,
   "id": "3cdfe36f",
   "metadata": {},
   "outputs": [],
   "source": [
    "Elltot = np.zeros(1000,dtype=float)"
   ]
  },
  {
   "cell_type": "code",
   "execution_count": 10,
   "id": "25d8a7d9",
   "metadata": {},
   "outputs": [],
   "source": [
    "for i in range(10):\n",
    "    Elltot[100*i:100*(i+1)] = ells[i,100*i:100*(i+1)]"
   ]
  },
  {
   "cell_type": "code",
   "execution_count": 12,
   "id": "97f2fe3d",
   "metadata": {},
   "outputs": [],
   "source": [
    "np.save('Ell0.npy',Elltot)"
   ]
  },
  {
   "cell_type": "code",
   "execution_count": 14,
   "id": "78641e02",
   "metadata": {},
   "outputs": [
    {
     "data": {
      "text/plain": [
       "(array([448., 247., 152.,  73.,  46.,  20.,   7.,   2.,   4.,   1.]),\n",
       " array([5.00037538, 5.32680118, 5.65322698, 5.97965278, 6.30607858,\n",
       "        6.63250438, 6.95893018, 7.28535598, 7.61178178, 7.93820758,\n",
       "        8.26463338]),\n",
       " <BarContainer object of 10 artists>)"
      ]
     },
     "execution_count": 14,
     "metadata": {},
     "output_type": "execute_result"
    },
    {
     "data": {
      "image/png": "[encoded data removed]",
      "text/plain": [
       "<Figure size 432x288 with 1 Axes>"
      ]
     },
     "metadata": {
      "needs_background": "light"
     },
     "output_type": "display_data"
    }
   ],
   "source": [
    "import matplotlib.pyplot as plt\n",
    "plt.hist(Elltot)"
   ]
  },
  {
   "cell_type": "code",
   "execution_count": null,
   "id": "2aa66898",
   "metadata": {},
   "outputs": [],
   "source": []
  }
 ],
 "metadata": {
  "kernelspec": {
   "display_name": "Python 3",
   "language": "python",
   "name": "python3"
  },
  "language_info": {
   "codemirror_mode": {
    "name": "ipython",
    "version": 3
   },
   "file_extension": ".py",
   "mimetype": "text/x-python",
   "name": "python",
   "nbconvert_exporter": "python",
   "pygments_lexer": "ipython3",
   "version": "3.8.8"
  }
 },
 "nbformat": 4,
 "nbformat_minor": 5
}
