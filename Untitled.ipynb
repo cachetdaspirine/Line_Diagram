{
 "cells": [
  {
   "cell_type": "code",
   "execution_count": 1,
   "id": "83e76f7e",
   "metadata": {},
   "outputs": [],
   "source": [
    "import numpy as np"
   ]
  },
  {
   "cell_type": "code",
   "execution_count": 19,
   "id": "dab5a767",
   "metadata": {},
   "outputs": [],
   "source": [
    "# load an array of 10 000 particle with a measurement of Ell0\n",
    "Data = np.loadtxt('Matrix.data',dtype=float)\n",
    "Data = Data[np.argsort(Data[:,1])][::-1]"
   ]
  },
  {
   "cell_type": "code",
   "execution_count": 21,
   "id": "b295f12b",
   "metadata": {},
   "outputs": [
    {
     "data": {
      "text/plain": [
       "array([8.93227369e+00, 8.48391086e+00, 1.06742935e-01, 2.27998000e-02,\n",
       "       4.78073046e+09])"
      ]
     },
     "execution_count": 21,
     "metadata": {},
     "output_type": "execute_result"
    }
   ],
   "source": [
    "Data[0]"
   ]
  },
  {
   "cell_type": "markdown",
   "id": "021012b7",
   "metadata": {},
   "source": [
    "## Verify that the measurement match"
   ]
  },
  {
   "cell_type": "code",
   "execution_count": 20,
   "id": "81aee7d4",
   "metadata": {},
   "outputs": [],
   "source": [
    "import sys\n",
    "sys.path.append('/home/hcleroy/Extra_Module_py')\n",
    "import RandomParticleFunctions_v4 as RPF\n",
    "import Get_High_L_Matrix as GHLM\n",
    "import MeasurePoisson as MP"
   ]
  },
  {
   "cell_type": "code",
   "execution_count": 23,
   "id": "6d11ae7c",
   "metadata": {},
   "outputs": [
    {
     "name": "stdout",
     "output_type": "stream",
     "text": [
      "8.48391336460042\n",
      "8.483910862893868\n"
     ]
    }
   ],
   "source": [
    "N = 40\n",
    "# Generate a particle with the given seed and measure Ell\n",
    "Mc,rho0,e1,e2,S = RPF.RandomParticle(int(Data[0,-1]))\n",
    "print(GHLM.MeasureL(Mc,rho0))\n",
    "# Output the expected value, both should match\n",
    "print(Data[0,1])"
   ]
  },
  {
   "cell_type": "code",
   "execution_count": 27,
   "id": "18882504",
   "metadata": {},
   "outputs": [],
   "source": [
    "SeedBag = np.array(Data[:400,-1],dtype=np.int64)"
   ]
  },
  {
   "cell_type": "code",
   "execution_count": 29,
   "id": "0785005f",
   "metadata": {},
   "outputs": [],
   "source": [
    "np.save('SeedBag400',SeedBag)"
   ]
  },
  {
   "cell_type": "code",
   "execution_count": null,
   "id": "1bcd90e6",
   "metadata": {},
   "outputs": [],
   "source": []
  }
 ],
 "metadata": {
  "kernelspec": {
   "display_name": "Python 3",
   "language": "python",
   "name": "python3"
  },
  "language_info": {
   "codemirror_mode": {
    "name": "ipython",
    "version": 3
   },
   "file_extension": ".py",
   "mimetype": "text/x-python",
   "name": "python",
   "nbconvert_exporter": "python",
   "pygments_lexer": "ipython3",
   "version": "3.8.8"
  }
 },
 "nbformat": 4,
 "nbformat_minor": 5
}
